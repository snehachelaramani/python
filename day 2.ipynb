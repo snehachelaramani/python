{
 "cells": [
  {
   "cell_type": "code",
   "execution_count": 6,
   "metadata": {},
   "outputs": [
    {
     "name": "stdout",
     "output_type": "stream",
     "text": [
      "enter score0.2\n",
      "F\n"
     ]
    }
   ],
   "source": [
    "def computegrade(score):\n",
    " if score >0 and score <1:\n",
    "    if score >=.9:\n",
    "        print('A')\n",
    "    elif score>=.8:\n",
    "        print('B')\n",
    "    elif score>=.6:\n",
    "        print('C')\n",
    "    elif score>=.7:\n",
    "         print('d')\n",
    "    else:\n",
    "        print('F')\n",
    " else:\n",
    "    print('bad score')\n",
    "input_score=input('enter score')\n",
    "try:\n",
    "    score=float(input_score)\n",
    "except:\n",
    "    print('bad score')\n",
    "    quit()\n",
    "computegrade(score)"
   ]
  },
  {
   "cell_type": "code",
   "execution_count": 7,
   "metadata": {},
   "outputs": [
    {
     "data": {
      "text/plain": [
       "'C:\\\\Users\\\\IBS'"
      ]
     },
     "execution_count": 7,
     "metadata": {},
     "output_type": "execute_result"
    }
   ],
   "source": [
    "pwd\n"
   ]
  },
  {
   "cell_type": "code",
   "execution_count": 8,
   "metadata": {},
   "outputs": [
    {
     "name": "stdout",
     "output_type": "stream",
     "text": [
      "enter score.9\n",
      "A\n"
     ]
    }
   ],
   "source": [
    "def computegrade(score):\n",
    " if score >0 and score <1:\n",
    "    if score >=.9:\n",
    "        print('A')\n",
    "    elif score>=.8:\n",
    "        print('B')\n",
    "    elif score>=.6:\n",
    "        print('C')\n",
    "    elif score>=.7:\n",
    "         print('d')\n",
    "    else:\n",
    "        print('F')\n",
    " else:\n",
    "    print('bad score')\n",
    "input_score=input('enter score')\n",
    "try:\n",
    "    score=float(input_score)\n",
    "except:\n",
    "    print('bad score')\n",
    "    quit()\n",
    "computegrade(score)"
   ]
  },
  {
   "cell_type": "code",
   "execution_count": 14,
   "metadata": {},
   "outputs": [
    {
     "name": "stdout",
     "output_type": "stream",
     "text": [
      "n\n",
      "blastoff\n",
      "n\n",
      "blastoff\n",
      "n\n",
      "blastoff\n",
      "n\n",
      "blastoff\n",
      "n\n",
      "blastoff\n"
     ]
    }
   ],
   "source": [
    "n=5\n",
    "while n>0:\n",
    "    print ('n')\n",
    "    n=n-1\n",
    "    print('blastoff')\n",
    "    "
   ]
  },
  {
   "cell_type": "code",
   "execution_count": null,
   "metadata": {},
   "outputs": [],
   "source": []
  },
  {
   "cell_type": "code",
   "execution_count": null,
   "metadata": {},
   "outputs": [],
   "source": []
  },
  {
   "cell_type": "code",
   "execution_count": null,
   "metadata": {},
   "outputs": [],
   "source": []
  },
  {
   "cell_type": "code",
   "execution_count": null,
   "metadata": {},
   "outputs": [],
   "source": [
    "inp=int(input('enter value'))\n",
    "while True:\n",
    "    print(inp) \n",
    "    break\n",
    "print('error')"
   ]
  },
  {
   "cell_type": "code",
   "execution_count": null,
   "metadata": {},
   "outputs": [],
   "source": [
    "i=1\n",
    "while i<6:\n",
    "    print(i)\n",
    "    i+=1\n"
   ]
  },
  {
   "cell_type": "code",
   "execution_count": null,
   "metadata": {},
   "outputs": [],
   "source": []
  },
  {
   "cell_type": "code",
   "execution_count": null,
   "metadata": {},
   "outputs": [],
   "source": []
  }
 ],
 "metadata": {
  "kernelspec": {
   "display_name": "Python 3",
   "language": "python",
   "name": "python3"
  },
  "language_info": {
   "codemirror_mode": {
    "name": "ipython",
    "version": 3
   },
   "file_extension": ".py",
   "mimetype": "text/x-python",
   "name": "python",
   "nbconvert_exporter": "python",
   "pygments_lexer": "ipython3",
   "version": "3.7.0"
  }
 },
 "nbformat": 4,
 "nbformat_minor": 2
}
